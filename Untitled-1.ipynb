{
 "cells": [
  {
   "cell_type": "code",
   "execution_count": 1,
   "metadata": {},
   "outputs": [],
   "source": [
    "import energym\n",
    "from energym.examples.Controller import MixedUseController\n",
    "import numpy as np\n",
    "import random\n",
    "import pandas as pd\n",
    "import matplotlib.pyplot as plt\n"
   ]
  },
  {
   "cell_type": "code",
   "execution_count": 2,
   "metadata": {},
   "outputs": [],
   "source": [
    "%matplotlib inline"
   ]
  },
  {
   "cell_type": "code",
   "execution_count": 3,
   "metadata": {},
   "outputs": [
    {
     "name": "stdout",
     "output_type": "stream",
     "text": [
      "[OK] fmi2Instantiate: The Resource location of FMU with instance name instance1716492125 is file:///C:/Users/kutsezae/Energym_runs/1716492125_2653277/resources.\n",
      "\n",
      "[WARNING] fmi2Instantiate: Argument loggingOn is set to 1\n",
      ". This is not supported. loggingOn will default to '0'.\n",
      "\n",
      "[OK] The current working directory is c:\\Users\\kutsezae\\ekutseza project\n",
      "\n",
      "[OK] fmi2Instantiate: Path to fmuUnzipLocation is not ///C:/Users/kutsezae/Energym_runs/1716492125_2653277.\n",
      "\n",
      "[OK] fmi2Instantiate: Path to fmuUnzipLocation is not //C:/Users/kutsezae/Energym_runs/1716492125_2653277.\n",
      "\n",
      "[OK] fmi2Instantiate: Path to fmuUnzipLocation is not /C:/Users/kutsezae/Energym_runs/1716492125_2653277.\n",
      "\n",
      "[OK] fmi2Instantiate: Path to fmuUnzipLocation C:/Users/kutsezae/Energym_runs/1716492125_2653277\\\n",
      "\n",
      "[OK] fmi2Instantiate: Path to fmuResourceLocation C:/Users/kutsezae/Energym_runs/1716492125_2653277\\resources\\\n",
      "\n",
      "[OK] Command executes to copy content of resources folder: xcopy \"C:\\Users\\kutsezae\\Energym_runs\\1716492125_2653277\\resources\\\"variables.cfg \"c:\\Users\\kutsezae\\ekutseza project\\Output_EPExport_instance1716492125\\\" /Y /I\n",
      "\n",
      "[OK] fmi2Instantiate: Path to model description file is C:\\Users\\kutsezae\\Energym_runs\\1716492125_2653277\\modelDescription.xml.\n",
      "\n",
      "[OK] fmi2Instantiate: The FMU modelIdentifier is MixedUse_ahu.\n",
      "\n",
      "[OK] fmi2Instantiate: The FMU modelGUID is d48890be91d5bc4845a057961f7e0811.\n",
      "\n",
      "[OK] fmi2Instantiate: Slave instance1716492125 is instantiated.\n",
      "\n",
      "[OK] fmi2Instantiate: Instantiation of instance1716492125 succeded.\n",
      "\n",
      "[OK] fmi2EnterInitializationMode: The sockfd is 76.\n",
      "\n",
      "[OK] fmi2EnterInitializationMode: The port number is 61706.\n",
      "\n",
      "[OK] fmi2EnterInitializationMode: This hostname is FLAICT01-200123.\n",
      "\n",
      "[OK] fmi2EnterInitializationMode: TCPServer Server waiting for clients on port: 61706.\n",
      "\n",
      "[OK] fmi2EnterInitializationMode: The number of input variables is 12.\n",
      "\n",
      "[OK] fmi2EnterInitializationMode: The number of output variables is 38.\n",
      "\n",
      "[OK] Get input file from resource folder C:\\Users\\kutsezae\\Energym_runs\\1716492125_2653277\\resources\\.\n",
      "\n",
      "[OK] Searching for following pattern .idf\n",
      "\n",
      "[OK] Read directory and search for *.idf, *.epw, or *.idd file.\n",
      "\n",
      "[OK] Read directory and search for *.idf, *.epw, or *.idd file.\n",
      "\n",
      "[OK] Read directory and search for *.idf, *.epw, or *.idd file.\n",
      "\n",
      "[OK] Read directory and search for *.idf, *.epw, or *.idd file.\n",
      "\n",
      "[OK] Read directory and search for *.idf, *.epw, or *.idd file.\n",
      "\n",
      "[OK] Found matching file MixedUse_ahu.idf.\n",
      "\n",
      "[OK] done searching pattern .idf\n",
      "\n",
      "[OK] Get input file from resource folder C:\\Users\\kutsezae\\Energym_runs\\1716492125_2653277\\resources\\.\n",
      "\n",
      "[OK] Searching for following pattern .epw\n",
      "\n",
      "[OK] Read directory and search for *.idf, *.epw, or *.idd file.\n",
      "\n",
      "[OK] Read directory and search for *.idf, *.epw, or *.idd file.\n",
      "\n",
      "[OK] Read directory and search for *.idf, *.epw, or *.idd file.\n",
      "\n",
      "[OK] Read directory and search for *.idf, *.epw, or *.idd file.\n",
      "\n",
      "[OK] Read directory and search for *.idf, *.epw, or *.idd file.\n",
      "\n",
      "[OK] Read directory and search for *.idf, *.epw, or *.idd file.\n",
      "\n",
      "[OK] Read directory and search for *.idf, *.epw, or *.idd file.\n",
      "\n",
      "[OK] Found matching file weather.epw.\n",
      "\n",
      "[OK] done searching pattern .epw\n",
      "\n",
      "[OK] Get input file from resource folder C:\\Users\\kutsezae\\Energym_runs\\1716492125_2653277\\resources\\.\n",
      "\n",
      "[OK] Searching for following pattern .idd\n",
      "\n",
      "[OK] Read directory and search for *.idf, *.epw, or *.idd file.\n",
      "\n",
      "[OK] Read directory and search for *.idf, *.epw, or *.idd file.\n",
      "\n",
      "[OK] Read directory and search for *.idf, *.epw, or *.idd file.\n",
      "\n",
      "[OK] Found matching file Energy+.idd.\n",
      "\n",
      "[OK] done searching pattern .idd\n",
      "\n",
      "[OK] This version uses the **energyplus** command line interface to  call the EnergyPlus executable. **RunEPlus.bat** and **runenergyplus** , which were used in earlier versions, were deprecated as of August 2015.\n"
     ]
    }
   ],
   "source": [
    "weather = \"GRC_A_Athens\"\n",
    "env = energym.make(\"MixedUseFanFCU-v0\", weather=weather, simulation_days=30)"
   ]
  },
  {
   "cell_type": "code",
   "execution_count": null,
   "metadata": {},
   "outputs": [],
   "source": [
    "inputs = env.get_inputs_names()\n",
    "print(\"Available inputs for control:\", inputs)"
   ]
  },
  {
   "cell_type": "code",
   "execution_count": null,
   "metadata": {},
   "outputs": [],
   "source": [
    "controller = MixedUseController(\n",
    "    control_list=inputs, \n",
    "    lower_tol=0.3, \n",
    "    upper_tol=0.8, \n",
    "    nighttime_setback=True, \n",
    "    nighttime_start=17, \n",
    "    nighttime_end=6, \n",
    "    nighttime_temp=18\n",
    ")"
   ]
  }
 ],
 "metadata": {
  "kernelspec": {
   "display_name": "ems_env",
   "language": "python",
   "name": "python3"
  },
  "language_info": {
   "codemirror_mode": {
    "name": "ipython",
    "version": 3
   },
   "file_extension": ".py",
   "mimetype": "text/x-python",
   "name": "python",
   "nbconvert_exporter": "python",
   "pygments_lexer": "ipython3",
   "version": "3.11.4"
  }
 },
 "nbformat": 4,
 "nbformat_minor": 2
}
